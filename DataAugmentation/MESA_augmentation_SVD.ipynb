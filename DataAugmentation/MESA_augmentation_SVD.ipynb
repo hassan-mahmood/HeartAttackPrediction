{
 "cells": [
  {
   "cell_type": "code",
   "execution_count": 86,
   "metadata": {},
   "outputs": [],
   "source": [
    "import numpy as np\n",
    "import pandas as pd\n",
    "from numpy import linalg as LA\n",
    "from skimage import io, transform\n",
    "import matplotlib.pyplot as plt\n",
    "%matplotlib inline"
   ]
  },
  {
   "cell_type": "code",
   "execution_count": 87,
   "metadata": {},
   "outputs": [],
   "source": [
    "#data=pd.read_csv('MESA_data_9f_PoolCohort.csv',sep=',')\n",
    "data=pd.read_csv('MESA_data_9f_PoolCohort.csv',sep=',')"
   ]
  },
  {
   "cell_type": "code",
   "execution_count": 88,
   "metadata": {},
   "outputs": [
    {
     "name": "stdout",
     "output_type": "stream",
     "text": [
      "(6459, 10)\n",
      "(6454, 10)\n"
     ]
    }
   ],
   "source": [
    "print(data.shape)\n",
    "data=data.dropna()\n",
    "print(data.shape)"
   ]
  },
  {
   "cell_type": "code",
   "execution_count": 89,
   "metadata": {},
   "outputs": [
    {
     "name": "stdout",
     "output_type": "stream",
     "text": [
      "(6454, 9)\n",
      "(6454,)\n"
     ]
    }
   ],
   "source": [
    "\n",
    "X=np.array(data)[:,:-1]\n",
    "Y=np.array(data)[:,-1]\n",
    "print(X.shape)\n",
    "print(Y.shape)\n",
    "mean=X.mean(axis=0)\n",
    "components=X.shape[1]\n",
    "data_centered = X - X.mean(axis=0)"
   ]
  },
  {
   "cell_type": "code",
   "execution_count": 90,
   "metadata": {},
   "outputs": [],
   "source": [
    "cov_mat = np.cov(data_centered, rowvar=False)\n",
    "U,S,Vt = np.linalg.svd(cov_mat)\n",
    "\n",
    "new_Vt=Vt.copy()\n",
    "new_U=U.copy()\n",
    "new_S=S.copy()\n",
    "\n",
    "\n",
    "new_U=U[:,:components]\n",
    "new_S=S[:components]\n",
    "new_Vt=Vt[:components,:]\n",
    "\n",
    "pc=new_U\n",
    "scaled_singular_vals = np.zeros((components,1))\n",
    "\n",
    "pc_projection=np.dot(data_centered,pc)\n",
    "reconstruct=np.dot(pc_projection,Vt)+mean\n"
   ]
  },
  {
   "cell_type": "code",
   "execution_count": 91,
   "metadata": {},
   "outputs": [
    {
     "name": "stdout",
     "output_type": "stream",
     "text": [
      "(11734, 10)\n"
     ]
    }
   ],
   "source": [
    "def reconstruct_original(data,matrix):\n",
    "    return np.dot(data.reshape(1,-1),matrix)\n",
    "\n",
    "augmented_data=np.empty(shape=(0,components))\n",
    "augmented_Ys=np.empty(shape=(0,1))\n",
    "for i in range(pc_projection.shape[0]):\n",
    "    datapoint=pc_projection[i]\n",
    "    augmented_data=np.vstack((reconstruct_original(datapoint,Vt),augmented_data))\n",
    "    augmented_Ys=np.vstack((Y[i],augmented_Ys))\n",
    "    if(Y[i]==0):\n",
    "        continue\n",
    "    for k in range(11):\n",
    "        for c in range(components):\n",
    "            scaled_singular_vals[c][0] = np.random.normal(0, 0.2)*new_S[c]\n",
    "        scaled_singular_vecs = np.dot(new_U,scaled_singular_vals)\n",
    "        reconstruct=datapoint.reshape(1,-1)+scaled_singular_vecs.reshape(1,-1)\n",
    "        #reconstruct=np.dot(reconstruct.T,Vt)\n",
    "        augmented_data=np.vstack((reconstruct_original(reconstruct,Vt),augmented_data))\n",
    "        augmented_Ys=np.vstack((1,augmented_Ys))\n",
    "\n",
    "    augmented_data=np.dot(augmented_data,Vt)+mean\n",
    "augmented_data=np.concatenate((augmented_data,augmented_Ys),axis=1)\n",
    "\n",
    "print(augmented_data.shape)"
   ]
  },
  {
   "cell_type": "code",
   "execution_count": 92,
   "metadata": {},
   "outputs": [],
   "source": [
    "np.savetxt('augmented.csv',augmented_data,delimiter=',')"
   ]
  },
  {
   "cell_type": "code",
   "execution_count": 93,
   "metadata": {},
   "outputs": [
    {
     "data": {
      "text/plain": [
       "11734"
      ]
     },
     "execution_count": 93,
     "metadata": {},
     "output_type": "execute_result"
    }
   ],
   "source": [
    "5760+5974"
   ]
  },
  {
   "cell_type": "code",
   "execution_count": null,
   "metadata": {},
   "outputs": [],
   "source": []
  }
 ],
 "metadata": {
  "kernelspec": {
   "display_name": "Python 3",
   "language": "python",
   "name": "python3"
  },
  "language_info": {
   "codemirror_mode": {
    "name": "ipython",
    "version": 3
   },
   "file_extension": ".py",
   "mimetype": "text/x-python",
   "name": "python",
   "nbconvert_exporter": "python",
   "pygments_lexer": "ipython3",
   "version": "3.6.8"
  }
 },
 "nbformat": 4,
 "nbformat_minor": 4
}
